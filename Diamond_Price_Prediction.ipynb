{
  "nbformat": 4,
  "nbformat_minor": 0,
  "metadata": {
    "colab": {
      "provenance": [],
      "authorship_tag": "ABX9TyNbje/UZgnxJ9W6uogUGvJb",
      "include_colab_link": true
    },
    "kernelspec": {
      "name": "python3",
      "display_name": "Python 3"
    },
    "language_info": {
      "name": "python"
    }
  },
  "cells": [
    {
      "cell_type": "markdown",
      "metadata": {
        "id": "view-in-github",
        "colab_type": "text"
      },
      "source": [
        "<a href=\"https://colab.research.google.com/github/AbdullahFEliwa/DaimondPricePrediction/blob/main/Diamond_Price_Prediction.ipynb\" target=\"_parent\"><img src=\"https://colab.research.google.com/assets/colab-badge.svg\" alt=\"Open In Colab\"/></a>"
      ]
    },
    {
      "cell_type": "code",
      "execution_count": 1,
      "metadata": {
        "colab": {
          "base_uri": "https://localhost:8080/",
          "height": 315
        },
        "id": "2CR-i1D2sxAh",
        "outputId": "079bf4a1-a7c9-4bb6-c154-88a616f69c14"
      },
      "outputs": [
        {
          "output_type": "error",
          "ename": "MessageError",
          "evalue": "Error: credential propagation was unsuccessful",
          "traceback": [
            "\u001b[0;31m---------------------------------------------------------------------------\u001b[0m",
            "\u001b[0;31mMessageError\u001b[0m                              Traceback (most recent call last)",
            "\u001b[0;32m<ipython-input-1-bf1647b42bbd>\u001b[0m in \u001b[0;36m<cell line: 2>\u001b[0;34m()\u001b[0m\n\u001b[1;32m      1\u001b[0m \u001b[0;32mfrom\u001b[0m \u001b[0mgoogle\u001b[0m\u001b[0;34m.\u001b[0m\u001b[0mcolab\u001b[0m \u001b[0;32mimport\u001b[0m \u001b[0mdrive\u001b[0m\u001b[0;34m\u001b[0m\u001b[0;34m\u001b[0m\u001b[0m\n\u001b[0;32m----> 2\u001b[0;31m \u001b[0mdrive\u001b[0m\u001b[0;34m.\u001b[0m\u001b[0mmount\u001b[0m\u001b[0;34m(\u001b[0m\u001b[0;34m\"/content/drive\"\u001b[0m\u001b[0;34m)\u001b[0m\u001b[0;34m\u001b[0m\u001b[0;34m\u001b[0m\u001b[0m\n\u001b[0m",
            "\u001b[0;32m/usr/local/lib/python3.10/dist-packages/google/colab/drive.py\u001b[0m in \u001b[0;36mmount\u001b[0;34m(mountpoint, force_remount, timeout_ms, readonly)\u001b[0m\n\u001b[1;32m     98\u001b[0m \u001b[0;32mdef\u001b[0m \u001b[0mmount\u001b[0m\u001b[0;34m(\u001b[0m\u001b[0mmountpoint\u001b[0m\u001b[0;34m,\u001b[0m \u001b[0mforce_remount\u001b[0m\u001b[0;34m=\u001b[0m\u001b[0;32mFalse\u001b[0m\u001b[0;34m,\u001b[0m \u001b[0mtimeout_ms\u001b[0m\u001b[0;34m=\u001b[0m\u001b[0;36m120000\u001b[0m\u001b[0;34m,\u001b[0m \u001b[0mreadonly\u001b[0m\u001b[0;34m=\u001b[0m\u001b[0;32mFalse\u001b[0m\u001b[0;34m)\u001b[0m\u001b[0;34m:\u001b[0m\u001b[0;34m\u001b[0m\u001b[0;34m\u001b[0m\u001b[0m\n\u001b[1;32m     99\u001b[0m   \u001b[0;34m\"\"\"Mount your Google Drive at the specified mountpoint path.\"\"\"\u001b[0m\u001b[0;34m\u001b[0m\u001b[0;34m\u001b[0m\u001b[0m\n\u001b[0;32m--> 100\u001b[0;31m   return _mount(\n\u001b[0m\u001b[1;32m    101\u001b[0m       \u001b[0mmountpoint\u001b[0m\u001b[0;34m,\u001b[0m\u001b[0;34m\u001b[0m\u001b[0;34m\u001b[0m\u001b[0m\n\u001b[1;32m    102\u001b[0m       \u001b[0mforce_remount\u001b[0m\u001b[0;34m=\u001b[0m\u001b[0mforce_remount\u001b[0m\u001b[0;34m,\u001b[0m\u001b[0;34m\u001b[0m\u001b[0;34m\u001b[0m\u001b[0m\n",
            "\u001b[0;32m/usr/local/lib/python3.10/dist-packages/google/colab/drive.py\u001b[0m in \u001b[0;36m_mount\u001b[0;34m(mountpoint, force_remount, timeout_ms, ephemeral, readonly)\u001b[0m\n\u001b[1;32m    135\u001b[0m   )\n\u001b[1;32m    136\u001b[0m   \u001b[0;32mif\u001b[0m \u001b[0mephemeral\u001b[0m\u001b[0;34m:\u001b[0m\u001b[0;34m\u001b[0m\u001b[0;34m\u001b[0m\u001b[0m\n\u001b[0;32m--> 137\u001b[0;31m     _message.blocking_request(\n\u001b[0m\u001b[1;32m    138\u001b[0m         \u001b[0;34m'request_auth'\u001b[0m\u001b[0;34m,\u001b[0m\u001b[0;34m\u001b[0m\u001b[0;34m\u001b[0m\u001b[0m\n\u001b[1;32m    139\u001b[0m         \u001b[0mrequest\u001b[0m\u001b[0;34m=\u001b[0m\u001b[0;34m{\u001b[0m\u001b[0;34m'authType'\u001b[0m\u001b[0;34m:\u001b[0m \u001b[0;34m'dfs_ephemeral'\u001b[0m\u001b[0;34m}\u001b[0m\u001b[0;34m,\u001b[0m\u001b[0;34m\u001b[0m\u001b[0;34m\u001b[0m\u001b[0m\n",
            "\u001b[0;32m/usr/local/lib/python3.10/dist-packages/google/colab/_message.py\u001b[0m in \u001b[0;36mblocking_request\u001b[0;34m(request_type, request, timeout_sec, parent)\u001b[0m\n\u001b[1;32m    174\u001b[0m       \u001b[0mrequest_type\u001b[0m\u001b[0;34m,\u001b[0m \u001b[0mrequest\u001b[0m\u001b[0;34m,\u001b[0m \u001b[0mparent\u001b[0m\u001b[0;34m=\u001b[0m\u001b[0mparent\u001b[0m\u001b[0;34m,\u001b[0m \u001b[0mexpect_reply\u001b[0m\u001b[0;34m=\u001b[0m\u001b[0;32mTrue\u001b[0m\u001b[0;34m\u001b[0m\u001b[0;34m\u001b[0m\u001b[0m\n\u001b[1;32m    175\u001b[0m   )\n\u001b[0;32m--> 176\u001b[0;31m   \u001b[0;32mreturn\u001b[0m \u001b[0mread_reply_from_input\u001b[0m\u001b[0;34m(\u001b[0m\u001b[0mrequest_id\u001b[0m\u001b[0;34m,\u001b[0m \u001b[0mtimeout_sec\u001b[0m\u001b[0;34m)\u001b[0m\u001b[0;34m\u001b[0m\u001b[0;34m\u001b[0m\u001b[0m\n\u001b[0m",
            "\u001b[0;32m/usr/local/lib/python3.10/dist-packages/google/colab/_message.py\u001b[0m in \u001b[0;36mread_reply_from_input\u001b[0;34m(message_id, timeout_sec)\u001b[0m\n\u001b[1;32m    101\u001b[0m     ):\n\u001b[1;32m    102\u001b[0m       \u001b[0;32mif\u001b[0m \u001b[0;34m'error'\u001b[0m \u001b[0;32min\u001b[0m \u001b[0mreply\u001b[0m\u001b[0;34m:\u001b[0m\u001b[0;34m\u001b[0m\u001b[0;34m\u001b[0m\u001b[0m\n\u001b[0;32m--> 103\u001b[0;31m         \u001b[0;32mraise\u001b[0m \u001b[0mMessageError\u001b[0m\u001b[0;34m(\u001b[0m\u001b[0mreply\u001b[0m\u001b[0;34m[\u001b[0m\u001b[0;34m'error'\u001b[0m\u001b[0;34m]\u001b[0m\u001b[0;34m)\u001b[0m\u001b[0;34m\u001b[0m\u001b[0;34m\u001b[0m\u001b[0m\n\u001b[0m\u001b[1;32m    104\u001b[0m       \u001b[0;32mreturn\u001b[0m \u001b[0mreply\u001b[0m\u001b[0;34m.\u001b[0m\u001b[0mget\u001b[0m\u001b[0;34m(\u001b[0m\u001b[0;34m'data'\u001b[0m\u001b[0;34m,\u001b[0m \u001b[0;32mNone\u001b[0m\u001b[0;34m)\u001b[0m\u001b[0;34m\u001b[0m\u001b[0;34m\u001b[0m\u001b[0m\n\u001b[1;32m    105\u001b[0m \u001b[0;34m\u001b[0m\u001b[0m\n",
            "\u001b[0;31mMessageError\u001b[0m: Error: credential propagation was unsuccessful"
          ]
        }
      ],
      "source": [
        "from google.colab import drive\n",
        "drive.mount(\"/content/drive\")"
      ]
    },
    {
      "cell_type": "code",
      "source": [
        "! mkdir ~/.kaggle/"
      ],
      "metadata": {
        "id": "cyvfTbC-s6MP"
      },
      "execution_count": null,
      "outputs": []
    },
    {
      "cell_type": "code",
      "source": [
        "!cp /content/drive/MyDrive/projects/kaggle_1.json ~/.kaggle/kaggle.json"
      ],
      "metadata": {
        "id": "iztM-gKzs6Ov"
      },
      "execution_count": null,
      "outputs": []
    },
    {
      "cell_type": "code",
      "source": [
        "! chmod 600 ~/.kaggle/kaggle.json"
      ],
      "metadata": {
        "id": "OoU4LSI1s6U2"
      },
      "execution_count": null,
      "outputs": []
    },
    {
      "cell_type": "code",
      "source": [
        "! kaggle datasets download shivam2503/diamonds"
      ],
      "metadata": {
        "id": "ECm8EJxAs6cU"
      },
      "execution_count": null,
      "outputs": []
    },
    {
      "cell_type": "code",
      "source": [
        "!unzip diamonds.zip"
      ],
      "metadata": {
        "id": "i_K1AUaAtxHG"
      },
      "execution_count": null,
      "outputs": []
    },
    {
      "cell_type": "markdown",
      "source": [
        "**Data Exploration**"
      ],
      "metadata": {
        "id": "-T3S_Wpwd2AV"
      }
    },
    {
      "cell_type": "code",
      "source": [
        "import numpy as np\n",
        "import pandas as pd\n",
        "import matplotlib.pyplot as plt\n",
        "import seaborn as sns\n",
        "%matplotlib inline"
      ],
      "metadata": {
        "id": "ssakuRn2txJj"
      },
      "execution_count": null,
      "outputs": []
    },
    {
      "cell_type": "code",
      "source": [
        "df = pd.read_csv('diamonds.csv')\n",
        "df"
      ],
      "metadata": {
        "id": "ZwMEZB02u_Xu"
      },
      "execution_count": null,
      "outputs": []
    },
    {
      "cell_type": "code",
      "source": [
        "df.info()"
      ],
      "metadata": {
        "id": "L9vPbdbPvaJ_"
      },
      "execution_count": null,
      "outputs": []
    },
    {
      "cell_type": "code",
      "source": [
        "df = df.drop([\"Unnamed: 0\"],axis=1)\n",
        "df.head(5)"
      ],
      "metadata": {
        "id": "Qx10biVvvvy2"
      },
      "execution_count": null,
      "outputs": []
    },
    {
      "cell_type": "code",
      "source": [
        "#Remove Duplicate\n",
        "df.drop_duplicates(inplace=True)\n",
        "df.shape"
      ],
      "metadata": {
        "id": "b_k2_edHvjX8"
      },
      "execution_count": null,
      "outputs": []
    },
    {
      "cell_type": "code",
      "source": [
        "df.describe()"
      ],
      "metadata": {
        "id": "KgFnaiAFxVhN"
      },
      "execution_count": null,
      "outputs": []
    },
    {
      "cell_type": "code",
      "source": [
        "df = df.drop(df[df[\"x\"]==0].index)\n",
        "df = df.drop(df[df[\"y\"]==0].index)\n",
        "df = df.drop(df[df[\"z\"]==0].index)\n",
        "df.shape"
      ],
      "metadata": {
        "id": "Jqh7M6Bf03yt"
      },
      "execution_count": null,
      "outputs": []
    },
    {
      "cell_type": "markdown",
      "source": [
        "\n",
        "**price**\n",
        "price in US dollars (\\$326--\\$18,823)\n",
        "**carat**\n",
        "weight of the diamond (0.2--5.01)\n",
        "**cut**\n",
        "quality of the cut (Fair, Good, Very Good, Premium, Ideal)\n",
        "**color**\n",
        "diamond colour, from J (worst) to D (best)\n",
        "**clarity**\n",
        "a measurement of how clear the diamond is (I1 (worst), SI2, SI1, VS2, VS1, VVS2, VVS1, IF (best))\n",
        "**x**\n",
        "length in mm (0--10.74)\n",
        "**y**\n",
        "width in mm (0--58.9)\n",
        "**z**\n",
        "depth in mm (0--31.8)\n",
        "**depth**\n",
        "total depth percentage = z / mean(x, y) = 2 * z / (x + y) (43--79)\n",
        "**table**\n",
        "width of top of diamond relative to widest point (43--95)"
      ],
      "metadata": {
        "id": "Qdgc6dAT2iov"
      }
    },
    {
      "cell_type": "code",
      "source": [
        "#depth =2*z/(x+y) Apply on first row in dataset\n",
        "\n",
        "depth=2*2.43/(3.95+3.98)\n",
        "depth"
      ],
      "metadata": {
        "id": "Pp0O1Hy81zxX"
      },
      "execution_count": null,
      "outputs": []
    },
    {
      "cell_type": "code",
      "source": [
        "df = df.drop(['x','y','z'],axis=1)\n",
        "df.head(3)"
      ],
      "metadata": {
        "id": "_XhIJGks5HmQ"
      },
      "execution_count": null,
      "outputs": []
    },
    {
      "cell_type": "code",
      "source": [
        "df.dtypes"
      ],
      "metadata": {
        "id": "-Jf-X_syyFg_"
      },
      "execution_count": null,
      "outputs": []
    },
    {
      "cell_type": "code",
      "source": [
        "df[\"price\"]=df[\"price\"].astype(float)\n",
        "df.dtypes"
      ],
      "metadata": {
        "id": "9Emx4uFb5caj"
      },
      "execution_count": null,
      "outputs": []
    },
    {
      "cell_type": "markdown",
      "source": [
        "**DataVisualization and Outlier handle **"
      ],
      "metadata": {
        "id": "R_ibiraBCmiw"
      }
    },
    {
      "cell_type": "code",
      "source": [
        "fig, axs = plt.subplots(2, 1, figsize=(10, 9))\n",
        "\n",
        "# Plot first histogram in the first subplot\n",
        "axs[0].hist(df[\"price\"],bins=40)\n",
        "axs[0].set_title('Distrbution of the price')\n",
        "\n",
        "# Plot second histogram in the second subplot\n",
        "axs[1].hist(df[\"carat\"], bins=40)\n",
        "axs[1].set_title('Distrbution of the carat')\n"
      ],
      "metadata": {
        "id": "MDpmjjVd9rIm"
      },
      "execution_count": null,
      "outputs": []
    },
    {
      "cell_type": "code",
      "source": [
        "fig=plt.figure(figsize=(6,6))\n",
        "HEAT=sns.heatmap(df.corr(),annot=True)\n",
        "plt.show()"
      ],
      "metadata": {
        "id": "OFFUHWqB9rCD"
      },
      "execution_count": null,
      "outputs": []
    },
    {
      "cell_type": "code",
      "source": [
        "df[\"price\"].skew()"
      ],
      "metadata": {
        "id": "IaeZTpd39q7S"
      },
      "execution_count": null,
      "outputs": []
    },
    {
      "cell_type": "code",
      "source": [
        "num_feature=[feature for feature in df.columns if df[feature].dtype!='O']\n",
        "print(num_feature)"
      ],
      "metadata": {
        "id": "6e99f-oJA4Av"
      },
      "execution_count": null,
      "outputs": []
    },
    {
      "cell_type": "code",
      "source": [
        "def outlier_handle(data, col_list):\n",
        "    df_new = data.copy()\n",
        "    for col_name in col_list:\n",
        "        q1 = data[col_name].quantile(0.25)\n",
        "        q3 = data[col_name].quantile(0.75)\n",
        "        iqr = q3-q1  #IQR\n",
        "        fence_low  = q1-1.5*iqr\n",
        "        fence_high = q3+1.5*iqr\n",
        "        df_new.loc[:,  col_name] = np.where(data[col_name]> fence_high, fence_high,\n",
        "                                            np.where(data[col_name]< fence_low,fence_low,data[col_name])\n",
        "                                           )\n",
        "    return df_new"
      ],
      "metadata": {
        "id": "28LtUAdvBFOW"
      },
      "execution_count": null,
      "outputs": []
    },
    {
      "cell_type": "code",
      "source": [
        "df=outlier_handle(df,num_feature)"
      ],
      "metadata": {
        "id": "P9dKEuayBE8F"
      },
      "execution_count": null,
      "outputs": []
    },
    {
      "cell_type": "code",
      "source": [
        "for col in num_feature:\n",
        "    fig,ax=plt.subplots(1, 2, constrained_layout=True)\n",
        "    fig.set_size_inches(15, 4)\n",
        "    ax[0].hist(df[col], bins=50, density=True)\n",
        "    ax[0].set_title('histoplot')\n",
        "\n",
        "    ax[1].boxplot(df[col],vert=0)\n",
        "    ax[1].set_title('Boxplot')\n",
        "\n",
        "    #sns.distplot(df[col], ax=ax[0],color='blue').set(title=\"Distplot\")\n",
        "    #sns.boxplot(df[col], ax=ax[1],color='blue').set(title=\"Boxplot\")\n",
        "    plt.suptitle(f'{col.title()}',weight='bold')\n",
        "    plt.show()"
      ],
      "metadata": {
        "id": "ZlZ6sOqRBNyO"
      },
      "execution_count": null,
      "outputs": []
    },
    {
      "cell_type": "code",
      "source": [
        "df[\"price\"].skew()"
      ],
      "metadata": {
        "id": "EehBeKWVBdjR"
      },
      "execution_count": null,
      "outputs": []
    },
    {
      "cell_type": "code",
      "source": [
        "import plotly.express as px\n",
        "fig = px.scatter_3d(df, x='table', y='carat', z='price',color='clarity')\n",
        "fig.show()"
      ],
      "metadata": {
        "id": "-SfCEbB6BtpN"
      },
      "execution_count": null,
      "outputs": []
    },
    {
      "cell_type": "code",
      "source": [
        "import plotly.express as px\n",
        "fig = px.scatter_3d(df, x='depth', y='carat', z='price',color='color')\n",
        "fig.show()"
      ],
      "metadata": {
        "id": "TRTcmz2PdbwN"
      },
      "execution_count": null,
      "outputs": []
    },
    {
      "cell_type": "code",
      "source": [
        "plt.subplots(figsize = (15, 8))\n",
        "p = sns.violinplot(x = df[\"cut\"],\n",
        "                  y = df[\"price\"],\n",
        "                  order = df[\"cut\"].value_counts().index,\n",
        "                  saturation = 1,\n",
        "                  linewidth = 4,\n",
        "                  edgecolor = \"black\")\n",
        "\n",
        "p.axes.set_title(\"\\nDiamond's Prices on Cut\\n\", fontsize = 20)\n",
        "p.axes.set_xlabel(\"\\nCut\", fontsize = 25)\n",
        "p.axes.set_ylabel(\"Price\", fontsize = 25)\n",
        "sns.despine(left = True, bottom = True)\n",
        "plt.show()"
      ],
      "metadata": {
        "id": "gGqOY-2phrLv"
      },
      "execution_count": null,
      "outputs": []
    },
    {
      "cell_type": "code",
      "source": [
        "plt.figure(figsize = (6, 4))\n",
        "\n",
        "sns.countplot(y=df[\"cut\"], order=df.cut.value_counts().index)"
      ],
      "metadata": {
        "id": "jDuI-xy5DL5W"
      },
      "execution_count": null,
      "outputs": []
    },
    {
      "cell_type": "markdown",
      "source": [
        "**Mapping For categrical parameter **"
      ],
      "metadata": {
        "id": "S3fH7ewAcV89"
      }
    },
    {
      "cell_type": "code",
      "source": [
        "#J (worst) to D (best)\n",
        "df[\"color\"].unique()"
      ],
      "metadata": {
        "id": "ikiyuDp856Dw"
      },
      "execution_count": null,
      "outputs": []
    },
    {
      "cell_type": "code",
      "source": [
        "df['color']=df.color.map({'J':1, 'I':2,  'H':3, 'G':4, 'F':5, 'E':6, 'D':7 })\n",
        "df.head(2)"
      ],
      "metadata": {
        "id": "hm-WH_O4VJVh"
      },
      "execution_count": null,
      "outputs": []
    },
    {
      "cell_type": "code",
      "source": [
        "\n",
        "df[\"cut\"].unique()"
      ],
      "metadata": {
        "id": "3ht16tXi8sBC"
      },
      "execution_count": null,
      "outputs": []
    },
    {
      "cell_type": "code",
      "source": [
        "df['cut']=df.cut.map({'Fair':1, 'Good':2,  'Very Good':3, 'Premium':4, 'Ideal':5 })\n",
        "df.head(2)"
      ],
      "metadata": {
        "id": "TkyVyxWNbkse"
      },
      "execution_count": null,
      "outputs": []
    },
    {
      "cell_type": "code",
      "source": [
        "#(I1 (worst), SI2, SI1, VS2, VS1, VVS2, VVS1, IF (best))\n",
        "df[\"clarity\"].unique()"
      ],
      "metadata": {
        "id": "lFwQsZl59K5P"
      },
      "execution_count": null,
      "outputs": []
    },
    {
      "cell_type": "code",
      "source": [
        "df['clarity']=df.clarity.map({'I1':1, 'SI2':2,  'SI1':3, 'VS2':4, 'VS1':5, 'VVS2':6, 'VVS1':7 , 'IF':8})\n",
        "df.head(2)"
      ],
      "metadata": {
        "id": "ia_19ye5cLz2"
      },
      "execution_count": null,
      "outputs": []
    },
    {
      "cell_type": "code",
      "source": [
        "X= df.drop([\"price\"],axis =1)\n",
        "y= df[\"price\"]\n",
        "X"
      ],
      "metadata": {
        "id": "2Fzcihkw9OiB"
      },
      "execution_count": null,
      "outputs": []
    },
    {
      "cell_type": "markdown",
      "source": [
        "**Split data **"
      ],
      "metadata": {
        "id": "wATOKidDnpBd"
      }
    },
    {
      "cell_type": "code",
      "source": [
        "from sklearn.model_selection import train_test_split\n",
        "x_train , x_test , y_train , y_test =train_test_split(X,y,test_size=0.25,random_state=42)"
      ],
      "metadata": {
        "id": "clAN7Xone0aQ"
      },
      "execution_count": null,
      "outputs": []
    },
    {
      "cell_type": "code",
      "source": [
        "from sklearn.preprocessing import StandardScaler\n",
        "scaler= StandardScaler()\n",
        "\n",
        "x_train_scaled = scaler.fit_transform(x_train)\n",
        "x_test_scaled = scaler.fit_transform(x_test)"
      ],
      "metadata": {
        "id": "CatVFHUcfdte"
      },
      "execution_count": null,
      "outputs": []
    },
    {
      "cell_type": "code",
      "source": [
        "print(x_train_scaled.shape)\n",
        "print(x_test_scaled.shape)\n",
        "print(y_train.shape)\n",
        "print(y_test.shape)"
      ],
      "metadata": {
        "id": "zIFbDTljgqJ5"
      },
      "execution_count": null,
      "outputs": []
    },
    {
      "cell_type": "markdown",
      "source": [
        "**Bulid model**"
      ],
      "metadata": {
        "id": "0I1KYHoSn01e"
      }
    },
    {
      "cell_type": "code",
      "source": [
        "from sklearn.linear_model import LinearRegression\n",
        "Reg =LinearRegression()\n",
        "Reg.fit(x_train_scaled,y_train)\n"
      ],
      "metadata": {
        "id": "QDcYGWL5jZ3u"
      },
      "execution_count": null,
      "outputs": []
    },
    {
      "cell_type": "code",
      "source": [
        "y_pred=Reg.predict(x_test_scaled)"
      ],
      "metadata": {
        "id": "E-_k5jE5kbOJ"
      },
      "execution_count": null,
      "outputs": []
    },
    {
      "cell_type": "code",
      "source": [
        "from sklearn import metrics\n",
        "from sklearn.metrics import mean_squared_error\n",
        "\n",
        "print(\"After Performing Linear Regression,\\n\")\n",
        "print(f\"R Squared Value: {metrics.r2_score(y_test, y_pred)}\")\n",
        "\n",
        "print(f\"Adjusted R Squared Value: {1-(1-metrics.r2_score(y_test,y_pred))*(len(y_test)-1)/(len(y_test)-x_test_scaled.shape[1]-1)}\")\n",
        "\n",
        "\n",
        "print(f\"Mean Absolute Error: {metrics.mean_absolute_error(y_test,y_pred)}\")\n",
        "print(f\"Mean Squared Error: {metrics.mean_squared_error(y_test,y_pred)}\")\n",
        "print(f\"Root Mean Squared Error: {metrics.mean_squared_error(y_test,y_pred,squared = False)}\")"
      ],
      "metadata": {
        "id": "VgJsTBNdkrG3"
      },
      "execution_count": null,
      "outputs": []
    },
    {
      "cell_type": "code",
      "source": [
        "from sklearn.preprocessing import MinMaxScaler\n",
        "\n",
        "k = 10\n",
        "\n",
        "skf = KFold(n_splits=k, shuffle=True, random_state=42)\n",
        "\n",
        "data_splits_object=skf.split(X, y)\n",
        "\n",
        "#Run the following 3 lines together multiple times to see how different data gets presented\n",
        "my_split_data=next(data_splits_object)\n",
        "print(\"Train indices are: \", my_split_data[0][0:10])\n",
        "print(\"Test indices are: \", my_split_data[1][0:10]) #Print first 10 values\n",
        "\n",
        "# empty lists to store predicted and ground truth values from all folds\n",
        "predicted_y = []\n",
        "expected_y = []\n",
        "\n",
        "\n",
        "scaler = MinMaxScaler()\n",
        "\n",
        "# Fit and predict iteratively on all splits\n",
        "for train_index, test_index in skf.split(X, y):\n",
        "\n",
        "    x_train, x_test = X.iloc[train_index], X.iloc[test_index]\n",
        "    y_train, y_test = y.iloc[train_index], y.iloc[test_index]\n",
        "\n",
        "    # Scale inputs\n",
        "    scaler.fit(x_train)\n",
        "    x_train = scaler.transform(x_train)\n",
        "    x_test = scaler.transform(x_test)\n",
        "\n",
        "    model = LinearRegression()\n",
        "    model.fit(x_train, y_train)\n",
        "\n",
        "    # print accuracy for each fold\n",
        "    predicted_this_fold = model.predict(x_test)\n",
        "    mse = mean_squared_error(y_test, predicted_this_fold)\n",
        "    print(\"MSE from this fold is: \" + str(mse))\n",
        "\n",
        "    # store the prediction in a list\n",
        "    predicted_y.extend(predicted_this_fold)\n",
        "\n",
        "    # store the ground truth for this specific fold\n",
        "    expected_y.extend(y_test)\n",
        "\n",
        "# print accuracy\n",
        "mse = mean_squared_error(expected_y, predicted_y)\n",
        "print('\\n', \"MSE from all folds is: \" + str(mse))"
      ],
      "metadata": {
        "id": "itgVNUH57P7b"
      },
      "execution_count": null,
      "outputs": []
    }
  ]
}